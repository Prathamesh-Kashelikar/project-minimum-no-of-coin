{
  "cells": [
    {
      "cell_type": "markdown",
      "metadata": {
        "id": "view-in-github",
        "colab_type": "text"
      },
      "source": [
        "<a href=\"https://colab.research.google.com/github/Prathamesh-Kashelikar/project-minimum-no-of-coin/blob/main/python_problem_solving_template.ipynb\" target=\"_parent\"><img src=\"https://colab.research.google.com/assets/colab-badge.svg\" alt=\"Open In Colab\"/></a>"
      ]
    },
    {
      "cell_type": "code",
      "execution_count": 98,
      "id": "7fdfebfc",
      "metadata": {
        "id": "7fdfebfc"
      },
      "outputs": [],
      "source": [
        "# Jovian Commit Essentials\n",
        "# Please retain and execute this cell without modifying the contents for `jovian.commit` to work\n",
        "!pip install jovian --upgrade -q\n",
        "import jovian\n",
        "jovian.set_project('python-problem-solving-template-93c82')\n",
        "jovian.set_colab_id('1SfER60b-NzorPZzFvtQ5DuqPi28gRYOx')"
      ]
    },
    {
      "cell_type": "markdown",
      "id": "18a7ee68",
      "metadata": {
        "id": "18a7ee68"
      },
      "source": [
        "# Problem Solving Template (change the title)\n",
        "\n",
        "_To learn how to use this template, check out the course [\"Data Structures and Algorithms in Python\"](https://jovian.ai/learn/data-structures-and-algorithms-in-python)._\n",
        "\n",
        "\n"
      ]
    },
    {
      "cell_type": "markdown",
      "id": "2f061293",
      "metadata": {
        "id": "2f061293"
      },
      "source": [
        "## How to run the code and save your work\n",
        "\n",
        "The recommended way to run this notebook is to click the \"Run\" button at the top of this page, and select \"Run on Binder\". This will run the notebook on [mybinder.org](https://mybinder.org), a free online service for running Jupyter notebooks. \n",
        "\n",
        "This tutorial is an executable [Jupyter notebook](https://jupyter.org). You can _run_ this tutorial and experiment with the code examples in a couple of ways: *using free online resources* (recommended) or *on your computer*.\n",
        "\n",
        "#### Option 1: Running using free online resources (1-click, recommended)\n",
        "\n",
        "The easiest way to start executing the code is to click the **Run** button at the top of this page and select **Run on Binder**. You can also select \"Run on Colab\" or \"Run on Kaggle\", but you'll need to create an account on [Google Colab](https://colab.research.google.com) or [Kaggle](https://kaggle.com) to use these platforms.\n",
        "\n",
        "\n",
        "#### Option 2: Running on your computer locally\n",
        "\n",
        "To run the code on your computer locally, you'll need to set up [Python](https://www.python.org), download the notebook and install the required libraries. We recommend using the [Conda](https://docs.conda.io/projects/conda/en/latest/user-guide/install/) distribution of Python. Click the **Run** button at the top of this page, select the **Run Locally** option, and follow the instructions.\n",
        "\n",
        "#### Saving your work\n",
        "\n",
        "Before staring the assignment, let's save a snapshot of the assignment to your [Jovian](https://jovian.ai) profile, so that you can access it later, and continue your work."
      ]
    },
    {
      "cell_type": "code",
      "execution_count": 99,
      "id": "3776c343",
      "metadata": {
        "id": "3776c343"
      },
      "outputs": [],
      "source": [
        "project_name = 'minimum number of coins for given value'"
      ]
    },
    {
      "cell_type": "code",
      "execution_count": 100,
      "id": "3ac6741f",
      "metadata": {
        "id": "3ac6741f"
      },
      "outputs": [],
      "source": [
        "!pip install jovian --upgrade --quiet"
      ]
    },
    {
      "cell_type": "code",
      "execution_count": 101,
      "id": "47405249",
      "metadata": {
        "id": "47405249"
      },
      "outputs": [],
      "source": [
        "import jovian"
      ]
    },
    {
      "cell_type": "code",
      "execution_count": 102,
      "id": "236c6504",
      "metadata": {
        "colab": {
          "base_uri": "https://localhost:8080/",
          "height": 87
        },
        "id": "236c6504",
        "outputId": "250f11c6-b40f-42ae-9aac-83826f5d7e7c"
      },
      "outputs": [
        {
          "output_type": "stream",
          "name": "stdout",
          "text": [
            "[jovian] Detected Colab notebook...\u001b[0m\n",
            "[jovian] Uploading colab notebook to Jovian...\u001b[0m\n",
            "Committed successfully! https://jovian.ai/prathamesh-kashelikar/minimum-number-of-coins-for-given-value\n"
          ]
        },
        {
          "output_type": "execute_result",
          "data": {
            "text/plain": [
              "'https://jovian.ai/prathamesh-kashelikar/minimum-number-of-coins-for-given-value'"
            ],
            "application/vnd.google.colaboratory.intrinsic+json": {
              "type": "string"
            }
          },
          "metadata": {},
          "execution_count": 102
        }
      ],
      "source": [
        "jovian.commit(project=project_name)"
      ]
    },
    {
      "cell_type": "markdown",
      "id": "da0a09d4",
      "metadata": {
        "id": "da0a09d4"
      },
      "source": [
        "## Problem Statement\n",
        "\n",
        "\n",
        "> Given a value V, if we want to make a change for V cents, and we have an infinite supply of each of C = { C1, C2, .., Cm} valued coins, what is the minimum number of coins to make the change? If it’s not possible to make a change, print -1\n",
        "\n",
        "\n",
        "Source: https://www.geeksforgeeks.org/find-minimum-number-of-coins-that-make-a-change/"
      ]
    },
    {
      "cell_type": "markdown",
      "id": "b3a3fe65",
      "metadata": {
        "id": "b3a3fe65"
      },
      "source": [
        "## The Method\n",
        "\n",
        "Here's the systematic strategy we'll apply for solving problems:\n",
        "\n",
        "1. State the problem clearly. Identify the input & output formats.\n",
        "2. Come up with some example inputs & outputs. Try to cover all edge cases.\n",
        "3. Come up with a correct solution for the problem. State it in plain English.\n",
        "4. Implement the solution and test it using example inputs. Fix bugs, if any.\n",
        "5. Analyze the algorithm's complexity and identify inefficiencies, if any.\n",
        "6. Apply the right technique to overcome the inefficiency. Repeat steps 3 to 6.\n",
        "\n",
        "This approach is explained in detail in [Lesson 1](https://jovian.ai/learn/data-structures-and-algorithms-in-python/lesson/lesson-1-binary-search-linked-lists-and-complexity) of the course. Let's apply this approach step-by-step."
      ]
    },
    {
      "cell_type": "markdown",
      "id": "aa6382c8",
      "metadata": {
        "id": "aa6382c8"
      },
      "source": [
        "## Solution\n",
        "\n",
        "\n",
        "### 1. State the problem clearly. Identify the input & output formats.\n",
        "\n",
        "While this problem is stated clearly enough, it's always useful to try and express in your own words, in a way that makes it most clear for you. \n",
        "\n",
        "\n",
        "**Problem**\n",
        "\n",
        "> Given a list of coins and we have to find out minimum number of coins required to reach a given value.\n",
        "\n",
        "<br/>\n",
        "\n",
        "\n",
        "**Input**\n",
        "\n",
        "1. coins0 = [25, 10, 5], V0 = 30\n",
        "2. coins1 = [9, 6, 5, 1], V1 = 11\n",
        "\n",
        "(add more if required)\n",
        "\n",
        "\n",
        "**Output**\n",
        "\n",
        "1. output0 = 2\n",
        "2. output1 = 2\n",
        "\n",
        "\n",
        "(add more if required)\n",
        "\n",
        "<br/>\n",
        "\n",
        "Based on the above, we can now create a signature of our function:"
      ]
    },
    {
      "cell_type": "code",
      "execution_count": 103,
      "id": "7c54c5e8",
      "metadata": {
        "id": "7c54c5e8"
      },
      "outputs": [],
      "source": [
        "# Create a function signature here. The body of the function can contain a single statement: pass\n",
        "\n",
        "def minimum_coin(coins,value):\n",
        "  pass"
      ]
    },
    {
      "cell_type": "markdown",
      "id": "f3c65f9e",
      "metadata": {
        "id": "f3c65f9e"
      },
      "source": [
        "Save and upload your work before continuing."
      ]
    },
    {
      "cell_type": "code",
      "execution_count": 104,
      "id": "dcc72318",
      "metadata": {
        "id": "dcc72318"
      },
      "outputs": [],
      "source": [
        "import jovian"
      ]
    },
    {
      "cell_type": "code",
      "execution_count": 105,
      "id": "b1ef24c6",
      "metadata": {
        "colab": {
          "base_uri": "https://localhost:8080/",
          "height": 87
        },
        "id": "b1ef24c6",
        "outputId": "1df24b19-e1bb-4e48-dace-e834347f64bd"
      },
      "outputs": [
        {
          "output_type": "stream",
          "name": "stdout",
          "text": [
            "[jovian] Detected Colab notebook...\u001b[0m\n",
            "[jovian] Uploading colab notebook to Jovian...\u001b[0m\n",
            "Committed successfully! https://jovian.ai/prathamesh-kashelikar/minimum-number-of-coins-for-given-value\n"
          ]
        },
        {
          "output_type": "execute_result",
          "data": {
            "text/plain": [
              "'https://jovian.ai/prathamesh-kashelikar/minimum-number-of-coins-for-given-value'"
            ],
            "application/vnd.google.colaboratory.intrinsic+json": {
              "type": "string"
            }
          },
          "metadata": {},
          "execution_count": 105
        }
      ],
      "source": [
        "jovian.commit()"
      ]
    },
    {
      "cell_type": "markdown",
      "id": "c612c312",
      "metadata": {
        "id": "c612c312"
      },
      "source": [
        "### 2. Come up with some example inputs & outputs. Try to cover all edge cases.\n",
        "\n",
        "Our function should be able to handle any set of valid inputs we pass into it. Here's a list of some possible variations we might encounter:\n",
        "\n",
        "1. general list\n",
        "2. list with repeating coins\n",
        "3. empty list\n",
        "4. list with insufficient coins for exact value\n",
        "5. list with single coin multiple times\n",
        "\n",
        "(add more if required)\n",
        "\n",
        "\n",
        "We'll express our test cases as dictionaries, to test them easily. Each dictionary will contain 2 keys: `input` (a dictionary itself containing one key for each argument to the function and `output` (the expected result from the function). "
      ]
    },
    {
      "cell_type": "code",
      "execution_count": 106,
      "id": "d5ab8ec0",
      "metadata": {
        "id": "d5ab8ec0"
      },
      "outputs": [],
      "source": [
        "test = {\n",
        "    'input': {\n",
        "        'coins' : [25, 10, 5],\n",
        "        'value' : 30\n",
        "    },\n",
        "    'output': 2\n",
        "}"
      ]
    },
    {
      "cell_type": "markdown",
      "id": "cf424642",
      "metadata": {
        "id": "cf424642"
      },
      "source": [
        "Create one test case for each of the scenarios listed above. We'll store our test cases in an array called `tests`."
      ]
    },
    {
      "cell_type": "code",
      "execution_count": 107,
      "id": "267cb963",
      "metadata": {
        "id": "267cb963"
      },
      "outputs": [],
      "source": [
        "tests = []"
      ]
    },
    {
      "cell_type": "code",
      "execution_count": 108,
      "id": "3ba79208",
      "metadata": {
        "id": "3ba79208"
      },
      "outputs": [],
      "source": [
        "tests.append(test)"
      ]
    },
    {
      "cell_type": "code",
      "execution_count": 109,
      "id": "13498021",
      "metadata": {
        "id": "13498021"
      },
      "outputs": [],
      "source": [
        "tests.append({\n",
        "    'input': {\n",
        "        'coins' :  [9, 6, 5, 1],\n",
        "        'value' : 11\n",
        "    },\n",
        "    'output': 2\n",
        "})"
      ]
    },
    {
      "cell_type": "code",
      "source": [
        "tests.append({\n",
        "    'input': {\n",
        "        'coins' :  [2,4,4,2,8],\n",
        "        'value' : 10\n",
        "    },\n",
        "    'output': 2\n",
        "})"
      ],
      "metadata": {
        "id": "IRgJiQ3I6Bn1"
      },
      "id": "IRgJiQ3I6Bn1",
      "execution_count": 110,
      "outputs": []
    },
    {
      "cell_type": "code",
      "execution_count": 111,
      "id": "5e709be0",
      "metadata": {
        "id": "5e709be0"
      },
      "outputs": [],
      "source": [
        "tests.append({\n",
        "    'input': {\n",
        "        'coins' :  [],\n",
        "        'value' : 5\n",
        "    },\n",
        "    'output': -1\n",
        "})"
      ]
    },
    {
      "cell_type": "code",
      "execution_count": 112,
      "id": "8660b996",
      "metadata": {
        "id": "8660b996"
      },
      "outputs": [],
      "source": [
        "tests.append({\n",
        "    'input': {\n",
        "        'coins' :  [2,3,1,7,4,9,5],\n",
        "        'value' : 17\n",
        "    },\n",
        "    'output': 3\n",
        "})"
      ]
    },
    {
      "cell_type": "code",
      "source": [
        "tests.append({\n",
        "    'input': {\n",
        "        'coins' :  [9, 6, 5, 1],\n",
        "        'value' : 8\n",
        "    },\n",
        "    'output': -1\n",
        "})"
      ],
      "metadata": {
        "id": "kvNkenQu58p8"
      },
      "id": "kvNkenQu58p8",
      "execution_count": 113,
      "outputs": []
    },
    {
      "cell_type": "code",
      "source": [
        "tests"
      ],
      "metadata": {
        "colab": {
          "base_uri": "https://localhost:8080/"
        },
        "id": "hENkIO8r58Oc",
        "outputId": "6143ef8b-e610-4950-ab0d-103cf7798b0f"
      },
      "id": "hENkIO8r58Oc",
      "execution_count": 114,
      "outputs": [
        {
          "output_type": "execute_result",
          "data": {
            "text/plain": [
              "[{'input': {'coins': [25, 10, 5], 'value': 30}, 'output': 2},\n",
              " {'input': {'coins': [9, 6, 5, 1], 'value': 11}, 'output': 2},\n",
              " {'input': {'coins': [2, 4, 4, 2, 8], 'value': 10}, 'output': 2},\n",
              " {'input': {'coins': [], 'value': 5}, 'output': -1},\n",
              " {'input': {'coins': [2, 3, 1, 7, 4, 9, 5], 'value': 17}, 'output': 3},\n",
              " {'input': {'coins': [9, 6, 5, 1], 'value': 8}, 'output': -1}]"
            ]
          },
          "metadata": {},
          "execution_count": 114
        }
      ]
    },
    {
      "cell_type": "code",
      "source": [
        ""
      ],
      "metadata": {
        "id": "VDTLTJb858BF"
      },
      "id": "VDTLTJb858BF",
      "execution_count": null,
      "outputs": []
    },
    {
      "cell_type": "markdown",
      "id": "39b0608d",
      "metadata": {
        "id": "39b0608d"
      },
      "source": [
        "### 3. Come up with a correct solution for the problem. State it in plain English.\n",
        "\n",
        "Our first goal should always be to come up with a _correct_ solution to the problem, which may not necessarily be the most _efficient_ solution. Come with a correct solution and explain it in simple words below:\n",
        "\n",
        "1. create 2 variables as count and sum\n",
        "2. start from 0th element if its less than value proceed if it equals then return 1\n",
        "3. after calculating sum if its greater than value then ignore current coin and if its less then consider that coin and proceed with inc count\n",
        "4. create a lists of successful coins count and lowest will give output\n",
        "5. **???**\n",
        "\n",
        "(add more steps if required)\n",
        "\n",
        "\n",
        "Let's save and upload our work before continuing.\n",
        "\n",
        "\n"
      ]
    },
    {
      "cell_type": "code",
      "execution_count": 115,
      "id": "da116072",
      "metadata": {
        "colab": {
          "base_uri": "https://localhost:8080/",
          "height": 87
        },
        "id": "da116072",
        "outputId": "250eb6d8-70e0-43c6-9161-4c32c5e9e311"
      },
      "outputs": [
        {
          "output_type": "stream",
          "name": "stdout",
          "text": [
            "[jovian] Detected Colab notebook...\u001b[0m\n",
            "[jovian] Uploading colab notebook to Jovian...\u001b[0m\n",
            "Committed successfully! https://jovian.ai/prathamesh-kashelikar/minimum-number-of-coins-for-given-value\n"
          ]
        },
        {
          "output_type": "execute_result",
          "data": {
            "text/plain": [
              "'https://jovian.ai/prathamesh-kashelikar/minimum-number-of-coins-for-given-value'"
            ],
            "application/vnd.google.colaboratory.intrinsic+json": {
              "type": "string"
            }
          },
          "metadata": {},
          "execution_count": 115
        }
      ],
      "source": [
        "jovian.commit()"
      ]
    },
    {
      "cell_type": "markdown",
      "id": "2cfe42ff",
      "metadata": {
        "id": "2cfe42ff"
      },
      "source": [
        "###  4. Implement the solution and test it using example inputs. Fix bugs, if any."
      ]
    },
    {
      "cell_type": "code",
      "execution_count": 116,
      "id": "2859f753",
      "metadata": {
        "id": "2859f753"
      },
      "outputs": [],
      "source": [
        "def minimum_coin(coins,value):\n",
        "  list_count =[]\n",
        "\n",
        "  if value <= 0 or len(coins)==0:\n",
        "    return -1\n",
        "  \n",
        "  else :\n",
        "    for i in range(0,len(coins)):\n",
        "      # print(\"i :\", i)\n",
        "      count =1\n",
        "      if coins[i] == value:\n",
        "        return 1\n",
        "      elif coins[i] < value :\n",
        "        for x in range(i+1,len(coins)):\n",
        "          sum = coins[i]\n",
        "          # print(\"sum : \",sum)\n",
        "          count =1\n",
        "          for j in range(x,len(coins)):\n",
        "            sum = sum + coins[j]\n",
        "            count += 1\n",
        "            \n",
        "            # print(f\"ele: {coins[j]} , total :{sum} \")\n",
        "            if sum == value:\n",
        "              list_count.append(count)\n",
        "              sum = coins[i]\n",
        "              # print(\"equal\")\n",
        "\n",
        "            elif sum > value:\n",
        "              sum = sum - coins[j]\n",
        "              count -= 1\n",
        "              # print(\"greater\")\n",
        "              pass\n",
        "            elif sum < value:\n",
        "              # print(\"smaller\")\n",
        "              continue\n",
        "                 \n",
        "      elif coins[i] > value:\n",
        "        pass\n",
        "      # print(\"list_count :\",list_count)\n",
        "    if len(list_count) == 0:\n",
        "      return -1\n",
        "    else:\n",
        "      return min(list_count)\n",
        "\n",
        "      \n"
      ]
    },
    {
      "cell_type": "code",
      "execution_count": 117,
      "id": "8ac57d89",
      "metadata": {
        "colab": {
          "base_uri": "https://localhost:8080/"
        },
        "id": "8ac57d89",
        "outputId": "cbdd5996-182d-4d9a-d1c3-c74c07d975b1"
      },
      "outputs": [
        {
          "output_type": "execute_result",
          "data": {
            "text/plain": [
              "2"
            ]
          },
          "metadata": {},
          "execution_count": 117
        }
      ],
      "source": [
        "minimum_coin(tests[1]['input']['coins'],tests[1]['input']['value'])"
      ]
    },
    {
      "cell_type": "code",
      "execution_count": null,
      "id": "31a7ff3d",
      "metadata": {
        "id": "31a7ff3d"
      },
      "outputs": [],
      "source": [
        ""
      ]
    },
    {
      "cell_type": "markdown",
      "id": "4ea881f9",
      "metadata": {
        "id": "4ea881f9"
      },
      "source": [
        "We can test the function by passing the input to it directly or by using the `evaluate_test_case` function from `jovian`."
      ]
    },
    {
      "cell_type": "code",
      "execution_count": 118,
      "id": "890a9fb6",
      "metadata": {
        "id": "890a9fb6"
      },
      "outputs": [],
      "source": [
        "from jovian.pythondsa import evaluate_test_case"
      ]
    },
    {
      "cell_type": "code",
      "execution_count": 119,
      "id": "47ee81ec",
      "metadata": {
        "colab": {
          "base_uri": "https://localhost:8080/"
        },
        "id": "47ee81ec",
        "outputId": "33db72d0-ce1d-466a-c508-567df3102008"
      },
      "outputs": [
        {
          "output_type": "stream",
          "name": "stdout",
          "text": [
            "\n",
            "Input:\n",
            "{'coins': [25, 10, 5], 'value': 30}\n",
            "\n",
            "Expected Output:\n",
            "2\n",
            "\n",
            "\n",
            "Actual Output:\n",
            "2\n",
            "\n",
            "Execution Time:\n",
            "0.015 ms\n",
            "\n",
            "Test Result:\n",
            "\u001b[92mPASSED\u001b[0m\n",
            "\n"
          ]
        },
        {
          "output_type": "execute_result",
          "data": {
            "text/plain": [
              "(2, True, 0.015)"
            ]
          },
          "metadata": {},
          "execution_count": 119
        }
      ],
      "source": [
        "evaluate_test_case(minimum_coin,tests[0])"
      ]
    },
    {
      "cell_type": "markdown",
      "id": "fa00a81f",
      "metadata": {
        "id": "fa00a81f"
      },
      "source": [
        "Evaluate your function against all the test cases together using the `evaluate_test_cases` (plural) function from `jovian`."
      ]
    },
    {
      "cell_type": "code",
      "execution_count": 120,
      "id": "3354c0a8",
      "metadata": {
        "id": "3354c0a8"
      },
      "outputs": [],
      "source": [
        "from jovian.pythondsa import evaluate_test_cases"
      ]
    },
    {
      "cell_type": "code",
      "execution_count": 121,
      "id": "8b61d5c5",
      "metadata": {
        "colab": {
          "base_uri": "https://localhost:8080/"
        },
        "id": "8b61d5c5",
        "outputId": "2d50c830-b8ee-48a7-e94b-ba8608e9725c"
      },
      "outputs": [
        {
          "output_type": "stream",
          "name": "stdout",
          "text": [
            "\n",
            "\u001b[1mTEST CASE #0\u001b[0m\n",
            "\n",
            "Input:\n",
            "{'coins': [25, 10, 5], 'value': 30}\n",
            "\n",
            "Expected Output:\n",
            "2\n",
            "\n",
            "\n",
            "Actual Output:\n",
            "2\n",
            "\n",
            "Execution Time:\n",
            "0.012 ms\n",
            "\n",
            "Test Result:\n",
            "\u001b[92mPASSED\u001b[0m\n",
            "\n",
            "\n",
            "\u001b[1mTEST CASE #1\u001b[0m\n",
            "\n",
            "Input:\n",
            "{'coins': [9, 6, 5, 1], 'value': 11}\n",
            "\n",
            "Expected Output:\n",
            "2\n",
            "\n",
            "\n",
            "Actual Output:\n",
            "2\n",
            "\n",
            "Execution Time:\n",
            "0.011 ms\n",
            "\n",
            "Test Result:\n",
            "\u001b[92mPASSED\u001b[0m\n",
            "\n",
            "\n",
            "\u001b[1mTEST CASE #2\u001b[0m\n",
            "\n",
            "Input:\n",
            "{'coins': [2, 4, 4, 2, 8], 'value': 10}\n",
            "\n",
            "Expected Output:\n",
            "2\n",
            "\n",
            "\n",
            "Actual Output:\n",
            "2\n",
            "\n",
            "Execution Time:\n",
            "0.014 ms\n",
            "\n",
            "Test Result:\n",
            "\u001b[92mPASSED\u001b[0m\n",
            "\n",
            "\n",
            "\u001b[1mTEST CASE #3\u001b[0m\n",
            "\n",
            "Input:\n",
            "{'coins': [], 'value': 5}\n",
            "\n",
            "Expected Output:\n",
            "-1\n",
            "\n",
            "\n",
            "Actual Output:\n",
            "-1\n",
            "\n",
            "Execution Time:\n",
            "0.002 ms\n",
            "\n",
            "Test Result:\n",
            "\u001b[92mPASSED\u001b[0m\n",
            "\n",
            "\n",
            "\u001b[1mTEST CASE #4\u001b[0m\n",
            "\n",
            "Input:\n",
            "{'coins': [2, 3, 1, 7, 4, 9, 5], 'value': 17}\n",
            "\n",
            "Expected Output:\n",
            "3\n",
            "\n",
            "\n",
            "Actual Output:\n",
            "3\n",
            "\n",
            "Execution Time:\n",
            "0.031 ms\n",
            "\n",
            "Test Result:\n",
            "\u001b[92mPASSED\u001b[0m\n",
            "\n",
            "\n",
            "\u001b[1mTEST CASE #5\u001b[0m\n",
            "\n",
            "Input:\n",
            "{'coins': [9, 6, 5, 1], 'value': 8}\n",
            "\n",
            "Expected Output:\n",
            "-1\n",
            "\n",
            "\n",
            "Actual Output:\n",
            "-1\n",
            "\n",
            "Execution Time:\n",
            "0.007 ms\n",
            "\n",
            "Test Result:\n",
            "\u001b[92mPASSED\u001b[0m\n",
            "\n",
            "\n",
            "\u001b[1mSUMMARY\u001b[0m\n",
            "\n",
            "TOTAL: 6, \u001b[92mPASSED\u001b[0m: 6, \u001b[91mFAILED\u001b[0m: 0\n"
          ]
        },
        {
          "output_type": "execute_result",
          "data": {
            "text/plain": [
              "[(2, True, 0.012),\n",
              " (2, True, 0.011),\n",
              " (2, True, 0.014),\n",
              " (-1, True, 0.002),\n",
              " (3, True, 0.031),\n",
              " (-1, True, 0.007)]"
            ]
          },
          "metadata": {},
          "execution_count": 121
        }
      ],
      "source": [
        "evaluate_test_cases(minimum_coin,tests)"
      ]
    },
    {
      "cell_type": "markdown",
      "id": "b1c8aa10",
      "metadata": {
        "id": "b1c8aa10"
      },
      "source": [
        "Verify that all the test cases were evaluated. We expect them all to fail, since we haven't implemented the function yet.\n",
        "\n",
        "Let's save our work before continuing."
      ]
    },
    {
      "cell_type": "code",
      "execution_count": 122,
      "id": "3f08950d",
      "metadata": {
        "colab": {
          "base_uri": "https://localhost:8080/",
          "height": 87
        },
        "id": "3f08950d",
        "outputId": "4eb5f995-7f99-4976-e768-02dcef33eaac"
      },
      "outputs": [
        {
          "output_type": "stream",
          "name": "stdout",
          "text": [
            "[jovian] Detected Colab notebook...\u001b[0m\n",
            "[jovian] Uploading colab notebook to Jovian...\u001b[0m\n",
            "Committed successfully! https://jovian.ai/prathamesh-kashelikar/minimum-number-of-coins-for-given-value\n"
          ]
        },
        {
          "output_type": "execute_result",
          "data": {
            "text/plain": [
              "'https://jovian.ai/prathamesh-kashelikar/minimum-number-of-coins-for-given-value'"
            ],
            "application/vnd.google.colaboratory.intrinsic+json": {
              "type": "string"
            }
          },
          "metadata": {},
          "execution_count": 122
        }
      ],
      "source": [
        "jovian.commit()"
      ]
    },
    {
      "cell_type": "code",
      "execution_count": null,
      "id": "bbacafef",
      "metadata": {
        "id": "bbacafef"
      },
      "outputs": [],
      "source": [
        ""
      ]
    },
    {
      "cell_type": "markdown",
      "id": "f056f6fc",
      "metadata": {
        "id": "f056f6fc"
      },
      "source": [
        "### 5. Analyze the algorithm's complexity and identify inefficiencies, if any."
      ]
    },
    {
      "cell_type": "code",
      "execution_count": null,
      "id": "c622019a",
      "metadata": {
        "id": "c622019a"
      },
      "outputs": [],
      "source": [
        ""
      ]
    },
    {
      "cell_type": "code",
      "execution_count": null,
      "id": "7c8fdb8f",
      "metadata": {
        "id": "7c8fdb8f"
      },
      "outputs": [],
      "source": [
        ""
      ]
    },
    {
      "cell_type": "code",
      "execution_count": null,
      "id": "b44c2a90",
      "metadata": {
        "id": "b44c2a90"
      },
      "outputs": [],
      "source": [
        ""
      ]
    },
    {
      "cell_type": "code",
      "execution_count": 123,
      "id": "48a77883",
      "metadata": {
        "colab": {
          "base_uri": "https://localhost:8080/",
          "height": 87
        },
        "id": "48a77883",
        "outputId": "799553d1-f27d-4d8c-9005-49dcbf724fcd"
      },
      "outputs": [
        {
          "output_type": "stream",
          "name": "stdout",
          "text": [
            "[jovian] Detected Colab notebook...\u001b[0m\n",
            "[jovian] Uploading colab notebook to Jovian...\u001b[0m\n",
            "Committed successfully! https://jovian.ai/prathamesh-kashelikar/minimum-number-of-coins-for-given-value\n"
          ]
        },
        {
          "output_type": "execute_result",
          "data": {
            "text/plain": [
              "'https://jovian.ai/prathamesh-kashelikar/minimum-number-of-coins-for-given-value'"
            ],
            "application/vnd.google.colaboratory.intrinsic+json": {
              "type": "string"
            }
          },
          "metadata": {},
          "execution_count": 123
        }
      ],
      "source": [
        "jovian.commit()"
      ]
    },
    {
      "cell_type": "markdown",
      "id": "a6d7cb23",
      "metadata": {
        "id": "a6d7cb23"
      },
      "source": [
        "### 6. Apply the right technique to overcome the inefficiency. Repeat steps 3 to 6."
      ]
    },
    {
      "cell_type": "code",
      "execution_count": null,
      "id": "13377f55",
      "metadata": {
        "id": "13377f55"
      },
      "outputs": [],
      "source": [
        ""
      ]
    },
    {
      "cell_type": "code",
      "execution_count": null,
      "id": "2af4510f",
      "metadata": {
        "id": "2af4510f"
      },
      "outputs": [],
      "source": [
        ""
      ]
    },
    {
      "cell_type": "code",
      "execution_count": 124,
      "id": "4670e60d",
      "metadata": {
        "colab": {
          "base_uri": "https://localhost:8080/",
          "height": 87
        },
        "id": "4670e60d",
        "outputId": "09586380-59c2-49d5-d7e8-82eeced72f84"
      },
      "outputs": [
        {
          "output_type": "stream",
          "name": "stdout",
          "text": [
            "[jovian] Detected Colab notebook...\u001b[0m\n",
            "[jovian] Uploading colab notebook to Jovian...\u001b[0m\n",
            "Committed successfully! https://jovian.ai/prathamesh-kashelikar/minimum-number-of-coins-for-given-value\n"
          ]
        },
        {
          "output_type": "execute_result",
          "data": {
            "text/plain": [
              "'https://jovian.ai/prathamesh-kashelikar/minimum-number-of-coins-for-given-value'"
            ],
            "application/vnd.google.colaboratory.intrinsic+json": {
              "type": "string"
            }
          },
          "metadata": {},
          "execution_count": 124
        }
      ],
      "source": [
        "jovian.commit()"
      ]
    },
    {
      "cell_type": "markdown",
      "id": "ac389431",
      "metadata": {
        "id": "ac389431"
      },
      "source": [
        "### 7. Come up with a correct solution for the problem. State it in plain English.\n",
        "\n",
        "Come with the optimized correct solution and explain it in simple words below:\n",
        "\n",
        "1. **???**\n",
        "2. **???**\n",
        "3. **???**\n",
        "4. **???**\n",
        "5. **???**\n",
        "\n",
        "(add more steps if required)\n",
        "\n",
        "\n",
        "Let's save and upload our work before continuing.\n",
        "\n"
      ]
    },
    {
      "cell_type": "code",
      "execution_count": 125,
      "id": "844a83f9",
      "metadata": {
        "colab": {
          "base_uri": "https://localhost:8080/",
          "height": 87
        },
        "id": "844a83f9",
        "outputId": "62d6d2f4-1374-4bd7-aae2-9a060561e194"
      },
      "outputs": [
        {
          "output_type": "stream",
          "name": "stdout",
          "text": [
            "[jovian] Detected Colab notebook...\u001b[0m\n",
            "[jovian] Uploading colab notebook to Jovian...\u001b[0m\n",
            "Committed successfully! https://jovian.ai/prathamesh-kashelikar/minimum-number-of-coins-for-given-value\n"
          ]
        },
        {
          "output_type": "execute_result",
          "data": {
            "text/plain": [
              "'https://jovian.ai/prathamesh-kashelikar/minimum-number-of-coins-for-given-value'"
            ],
            "application/vnd.google.colaboratory.intrinsic+json": {
              "type": "string"
            }
          },
          "metadata": {},
          "execution_count": 125
        }
      ],
      "source": [
        "jovian.commit()"
      ]
    },
    {
      "cell_type": "code",
      "execution_count": null,
      "id": "93645b7f",
      "metadata": {
        "id": "93645b7f"
      },
      "outputs": [],
      "source": [
        ""
      ]
    },
    {
      "cell_type": "code",
      "execution_count": null,
      "id": "7c44c184",
      "metadata": {
        "id": "7c44c184"
      },
      "outputs": [],
      "source": [
        ""
      ]
    },
    {
      "cell_type": "code",
      "execution_count": null,
      "id": "a642285e",
      "metadata": {
        "id": "a642285e"
      },
      "outputs": [],
      "source": [
        ""
      ]
    },
    {
      "cell_type": "markdown",
      "id": "349b506c",
      "metadata": {
        "id": "349b506c"
      },
      "source": [
        "### 8. Implement the solution and test it using example inputs. Fix bugs, if any."
      ]
    },
    {
      "cell_type": "code",
      "execution_count": null,
      "id": "74cee828",
      "metadata": {
        "id": "74cee828"
      },
      "outputs": [],
      "source": [
        ""
      ]
    },
    {
      "cell_type": "code",
      "execution_count": null,
      "id": "1cd69e42",
      "metadata": {
        "id": "1cd69e42"
      },
      "outputs": [],
      "source": [
        ""
      ]
    },
    {
      "cell_type": "code",
      "execution_count": null,
      "id": "71cb0f0e",
      "metadata": {
        "id": "71cb0f0e"
      },
      "outputs": [],
      "source": [
        ""
      ]
    },
    {
      "cell_type": "code",
      "execution_count": null,
      "id": "42ff3ea2",
      "metadata": {
        "id": "42ff3ea2"
      },
      "outputs": [],
      "source": [
        ""
      ]
    },
    {
      "cell_type": "markdown",
      "id": "883d36a6",
      "metadata": {
        "id": "883d36a6"
      },
      "source": [
        "### 9. Analyze the algorithm's complexity and identify inefficiencies, if any."
      ]
    },
    {
      "cell_type": "code",
      "execution_count": null,
      "id": "112c36b0",
      "metadata": {
        "id": "112c36b0"
      },
      "outputs": [],
      "source": [
        ""
      ]
    },
    {
      "cell_type": "code",
      "execution_count": null,
      "id": "8d2976e6",
      "metadata": {
        "id": "8d2976e6"
      },
      "outputs": [],
      "source": [
        ""
      ]
    },
    {
      "cell_type": "code",
      "execution_count": null,
      "id": "7dfe0ade",
      "metadata": {
        "id": "7dfe0ade"
      },
      "outputs": [],
      "source": [
        ""
      ]
    },
    {
      "cell_type": "markdown",
      "id": "8ca2ec1c",
      "metadata": {
        "id": "8ca2ec1c"
      },
      "source": [
        "If you found the problem on an external platform, you can make a submission to test your solution.\n",
        "\n",
        "Share your approach and start a discussion on the Jovian forum: https://jovian.ai/forum/c/data-structures-and-algorithms-in-python/78"
      ]
    },
    {
      "cell_type": "code",
      "execution_count": 126,
      "id": "500db051",
      "metadata": {
        "colab": {
          "base_uri": "https://localhost:8080/",
          "height": 87
        },
        "id": "500db051",
        "outputId": "95ca2625-624b-4dfd-99ec-bec84d53bcee"
      },
      "outputs": [
        {
          "output_type": "stream",
          "name": "stdout",
          "text": [
            "[jovian] Detected Colab notebook...\u001b[0m\n",
            "[jovian] Uploading colab notebook to Jovian...\u001b[0m\n",
            "Committed successfully! https://jovian.ai/prathamesh-kashelikar/minimum-number-of-coins-for-given-value\n"
          ]
        },
        {
          "output_type": "execute_result",
          "data": {
            "text/plain": [
              "'https://jovian.ai/prathamesh-kashelikar/minimum-number-of-coins-for-given-value'"
            ],
            "application/vnd.google.colaboratory.intrinsic+json": {
              "type": "string"
            }
          },
          "metadata": {},
          "execution_count": 126
        }
      ],
      "source": [
        "jovian.commit()"
      ]
    },
    {
      "cell_type": "code",
      "execution_count": null,
      "id": "3425945f",
      "metadata": {
        "id": "3425945f"
      },
      "outputs": [],
      "source": [
        ""
      ]
    }
  ],
  "metadata": {
    "kernelspec": {
      "display_name": "Python 3",
      "language": "python",
      "name": "python3"
    },
    "language_info": {
      "codemirror_mode": {
        "name": "ipython",
        "version": 3
      },
      "file_extension": ".py",
      "mimetype": "text/x-python",
      "name": "python",
      "nbconvert_exporter": "python",
      "pygments_lexer": "ipython3",
      "version": "3.8.6"
    },
    "colab": {
      "name": "python-problem-solving-template.ipynb",
      "provenance": [],
      "collapsed_sections": [
        "f056f6fc",
        "a6d7cb23",
        "ac389431",
        "349b506c",
        "883d36a6"
      ],
      "include_colab_link": true
    }
  },
  "nbformat": 4,
  "nbformat_minor": 5
}